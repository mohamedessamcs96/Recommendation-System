{
  "nbformat": 4,
  "nbformat_minor": 0,
  "metadata": {
    "colab": {
      "provenance": [],
      "collapsed_sections": [
        "g9IFNriRZbYv"
      ]
    },
    "kernelspec": {
      "name": "python3",
      "display_name": "Python 3"
    },
    "language_info": {
      "name": "python"
    }
  },
  "cells": [
    {
      "cell_type": "code",
      "execution_count": 136,
      "metadata": {
        "id": "8-1aTpUI7pN5"
      },
      "outputs": [],
      "source": [
        "import pandas as pd\n",
        "from sklearn.model_selection import train_test_split\n",
        "from sklearn.model_selection import train_test_split\n",
        "from sklearn.feature_extraction.text import CountVectorizer\n",
        "from sklearn.naive_bayes import MultinomialNB\n",
        "from sklearn.pipeline import make_pipeline\n",
        "from sklearn.metrics import classification_report"
      ]
    },
    {
      "cell_type": "code",
      "source": [
        "# Load the uploaded Excel file to examine its structure\n",
        "file_path = 'projects ideas.xlsx'\n",
        "data = pd.ExcelFile(file_path)\n",
        "\n",
        "# Display sheet names to understand the structure\n",
        "data.sheet_names"
      ],
      "metadata": {
        "colab": {
          "base_uri": "https://localhost:8080/"
        },
        "id": "NE-9adF6rb9n",
        "outputId": "5aa4011c-162b-49d7-f172-7f285ce14c9b"
      },
      "execution_count": 137,
      "outputs": [
        {
          "output_type": "execute_result",
          "data": {
            "text/plain": [
              "['Sheet1']"
            ]
          },
          "metadata": {},
          "execution_count": 137
        }
      ]
    },
    {
      "cell_type": "code",
      "source": [
        "# Load the data from \"Sheet1\"\n",
        "df = data.parse(\"Sheet1\")\n",
        "\n",
        "# Display the first few rows of the dataset to examine its structure\n",
        "df.head()"
      ],
      "metadata": {
        "colab": {
          "base_uri": "https://localhost:8080/",
          "height": 293
        },
        "id": "hgB4YQ_u8ZQa",
        "outputId": "947f7e19-b1bd-4b78-e619-ff85b18a24f5"
      },
      "execution_count": 138,
      "outputs": [
        {
          "output_type": "execute_result",
          "data": {
            "text/plain": [
              "   project_id                    title  \\\n",
              "0           1               AI Chatbot   \n",
              "1           6        Image Recognition   \n",
              "2          14   Stock Market Predictor   \n",
              "3          20  AI-Based Resume Builder   \n",
              "4          22      Language Translator   \n",
              "\n",
              "                                         description       skills_required  \\\n",
              "0       Build a chatbot using AI and NLP techniques.           Python, NLP   \n",
              "1  Develop an image recognition model using deep ...    Python, TensorFlow   \n",
              "2  Create a stock market prediction tool using ma...  Python, Scikit-learn   \n",
              "3          Develop an AI-powered resume builder app.    Python, NLP, Flask   \n",
              "4  Develop a language translator application usin...    Python, TensorFlow   \n",
              "\n",
              "  difficulty_level category                             keywords  \\\n",
              "0           Medium    AI/ML                 chatbot, NLP, Python   \n",
              "1             Hard    AI/ML    deep learning, TensorFlow, images   \n",
              "2             Hard    AI/ML  stock prediction, ML, data analysis   \n",
              "3           Medium    AI/ML                      AI, resume, NLP   \n",
              "4           Medium    AI/ML              translation, Python, AI   \n",
              "\n",
              "                                              links  \\\n",
              "0  https://youtu.be/pAkbhPZaZL8?si=iJKsBLGKxqQYKydX   \n",
              "1                                               NaN   \n",
              "2                                               NaN   \n",
              "3  https://youtu.be/XJ7bYdjKDcA?si=BJ3YNIB4upmYIJsf   \n",
              "4                                               NaN   \n",
              "\n",
              "                                               image  \n",
              "0  https://drive.google.com/uc?export=download&id...  \n",
              "1  https://drive.google.com/uc?export=download&id...  \n",
              "2  https://drive.google.com/uc?export=download&id...  \n",
              "3  https://drive.google.com/uc?export=download&id...  \n",
              "4  https://drive.google.com/uc?export=download&id...  "
            ],
            "text/html": [
              "\n",
              "  <div id=\"df-6b0d7dec-a09d-4ae6-90f4-684e019596bb\" class=\"colab-df-container\">\n",
              "    <div>\n",
              "<style scoped>\n",
              "    .dataframe tbody tr th:only-of-type {\n",
              "        vertical-align: middle;\n",
              "    }\n",
              "\n",
              "    .dataframe tbody tr th {\n",
              "        vertical-align: top;\n",
              "    }\n",
              "\n",
              "    .dataframe thead th {\n",
              "        text-align: right;\n",
              "    }\n",
              "</style>\n",
              "<table border=\"1\" class=\"dataframe\">\n",
              "  <thead>\n",
              "    <tr style=\"text-align: right;\">\n",
              "      <th></th>\n",
              "      <th>project_id</th>\n",
              "      <th>title</th>\n",
              "      <th>description</th>\n",
              "      <th>skills_required</th>\n",
              "      <th>difficulty_level</th>\n",
              "      <th>category</th>\n",
              "      <th>keywords</th>\n",
              "      <th>links</th>\n",
              "      <th>image</th>\n",
              "    </tr>\n",
              "  </thead>\n",
              "  <tbody>\n",
              "    <tr>\n",
              "      <th>0</th>\n",
              "      <td>1</td>\n",
              "      <td>AI Chatbot</td>\n",
              "      <td>Build a chatbot using AI and NLP techniques.</td>\n",
              "      <td>Python, NLP</td>\n",
              "      <td>Medium</td>\n",
              "      <td>AI/ML</td>\n",
              "      <td>chatbot, NLP, Python</td>\n",
              "      <td>https://youtu.be/pAkbhPZaZL8?si=iJKsBLGKxqQYKydX</td>\n",
              "      <td>https://drive.google.com/uc?export=download&amp;id...</td>\n",
              "    </tr>\n",
              "    <tr>\n",
              "      <th>1</th>\n",
              "      <td>6</td>\n",
              "      <td>Image Recognition</td>\n",
              "      <td>Develop an image recognition model using deep ...</td>\n",
              "      <td>Python, TensorFlow</td>\n",
              "      <td>Hard</td>\n",
              "      <td>AI/ML</td>\n",
              "      <td>deep learning, TensorFlow, images</td>\n",
              "      <td>NaN</td>\n",
              "      <td>https://drive.google.com/uc?export=download&amp;id...</td>\n",
              "    </tr>\n",
              "    <tr>\n",
              "      <th>2</th>\n",
              "      <td>14</td>\n",
              "      <td>Stock Market Predictor</td>\n",
              "      <td>Create a stock market prediction tool using ma...</td>\n",
              "      <td>Python, Scikit-learn</td>\n",
              "      <td>Hard</td>\n",
              "      <td>AI/ML</td>\n",
              "      <td>stock prediction, ML, data analysis</td>\n",
              "      <td>NaN</td>\n",
              "      <td>https://drive.google.com/uc?export=download&amp;id...</td>\n",
              "    </tr>\n",
              "    <tr>\n",
              "      <th>3</th>\n",
              "      <td>20</td>\n",
              "      <td>AI-Based Resume Builder</td>\n",
              "      <td>Develop an AI-powered resume builder app.</td>\n",
              "      <td>Python, NLP, Flask</td>\n",
              "      <td>Medium</td>\n",
              "      <td>AI/ML</td>\n",
              "      <td>AI, resume, NLP</td>\n",
              "      <td>https://youtu.be/XJ7bYdjKDcA?si=BJ3YNIB4upmYIJsf</td>\n",
              "      <td>https://drive.google.com/uc?export=download&amp;id...</td>\n",
              "    </tr>\n",
              "    <tr>\n",
              "      <th>4</th>\n",
              "      <td>22</td>\n",
              "      <td>Language Translator</td>\n",
              "      <td>Develop a language translator application usin...</td>\n",
              "      <td>Python, TensorFlow</td>\n",
              "      <td>Medium</td>\n",
              "      <td>AI/ML</td>\n",
              "      <td>translation, Python, AI</td>\n",
              "      <td>NaN</td>\n",
              "      <td>https://drive.google.com/uc?export=download&amp;id...</td>\n",
              "    </tr>\n",
              "  </tbody>\n",
              "</table>\n",
              "</div>\n",
              "    <div class=\"colab-df-buttons\">\n",
              "\n",
              "  <div class=\"colab-df-container\">\n",
              "    <button class=\"colab-df-convert\" onclick=\"convertToInteractive('df-6b0d7dec-a09d-4ae6-90f4-684e019596bb')\"\n",
              "            title=\"Convert this dataframe to an interactive table.\"\n",
              "            style=\"display:none;\">\n",
              "\n",
              "  <svg xmlns=\"http://www.w3.org/2000/svg\" height=\"24px\" viewBox=\"0 -960 960 960\">\n",
              "    <path d=\"M120-120v-720h720v720H120Zm60-500h600v-160H180v160Zm220 220h160v-160H400v160Zm0 220h160v-160H400v160ZM180-400h160v-160H180v160Zm440 0h160v-160H620v160ZM180-180h160v-160H180v160Zm440 0h160v-160H620v160Z\"/>\n",
              "  </svg>\n",
              "    </button>\n",
              "\n",
              "  <style>\n",
              "    .colab-df-container {\n",
              "      display:flex;\n",
              "      gap: 12px;\n",
              "    }\n",
              "\n",
              "    .colab-df-convert {\n",
              "      background-color: #E8F0FE;\n",
              "      border: none;\n",
              "      border-radius: 50%;\n",
              "      cursor: pointer;\n",
              "      display: none;\n",
              "      fill: #1967D2;\n",
              "      height: 32px;\n",
              "      padding: 0 0 0 0;\n",
              "      width: 32px;\n",
              "    }\n",
              "\n",
              "    .colab-df-convert:hover {\n",
              "      background-color: #E2EBFA;\n",
              "      box-shadow: 0px 1px 2px rgba(60, 64, 67, 0.3), 0px 1px 3px 1px rgba(60, 64, 67, 0.15);\n",
              "      fill: #174EA6;\n",
              "    }\n",
              "\n",
              "    .colab-df-buttons div {\n",
              "      margin-bottom: 4px;\n",
              "    }\n",
              "\n",
              "    [theme=dark] .colab-df-convert {\n",
              "      background-color: #3B4455;\n",
              "      fill: #D2E3FC;\n",
              "    }\n",
              "\n",
              "    [theme=dark] .colab-df-convert:hover {\n",
              "      background-color: #434B5C;\n",
              "      box-shadow: 0px 1px 3px 1px rgba(0, 0, 0, 0.15);\n",
              "      filter: drop-shadow(0px 1px 2px rgba(0, 0, 0, 0.3));\n",
              "      fill: #FFFFFF;\n",
              "    }\n",
              "  </style>\n",
              "\n",
              "    <script>\n",
              "      const buttonEl =\n",
              "        document.querySelector('#df-6b0d7dec-a09d-4ae6-90f4-684e019596bb button.colab-df-convert');\n",
              "      buttonEl.style.display =\n",
              "        google.colab.kernel.accessAllowed ? 'block' : 'none';\n",
              "\n",
              "      async function convertToInteractive(key) {\n",
              "        const element = document.querySelector('#df-6b0d7dec-a09d-4ae6-90f4-684e019596bb');\n",
              "        const dataTable =\n",
              "          await google.colab.kernel.invokeFunction('convertToInteractive',\n",
              "                                                    [key], {});\n",
              "        if (!dataTable) return;\n",
              "\n",
              "        const docLinkHtml = 'Like what you see? Visit the ' +\n",
              "          '<a target=\"_blank\" href=https://colab.research.google.com/notebooks/data_table.ipynb>data table notebook</a>'\n",
              "          + ' to learn more about interactive tables.';\n",
              "        element.innerHTML = '';\n",
              "        dataTable['output_type'] = 'display_data';\n",
              "        await google.colab.output.renderOutput(dataTable, element);\n",
              "        const docLink = document.createElement('div');\n",
              "        docLink.innerHTML = docLinkHtml;\n",
              "        element.appendChild(docLink);\n",
              "      }\n",
              "    </script>\n",
              "  </div>\n",
              "\n",
              "\n",
              "<div id=\"df-892f2178-8f8b-4569-83cd-c0ad714a49a1\">\n",
              "  <button class=\"colab-df-quickchart\" onclick=\"quickchart('df-892f2178-8f8b-4569-83cd-c0ad714a49a1')\"\n",
              "            title=\"Suggest charts\"\n",
              "            style=\"display:none;\">\n",
              "\n",
              "<svg xmlns=\"http://www.w3.org/2000/svg\" height=\"24px\"viewBox=\"0 0 24 24\"\n",
              "     width=\"24px\">\n",
              "    <g>\n",
              "        <path d=\"M19 3H5c-1.1 0-2 .9-2 2v14c0 1.1.9 2 2 2h14c1.1 0 2-.9 2-2V5c0-1.1-.9-2-2-2zM9 17H7v-7h2v7zm4 0h-2V7h2v10zm4 0h-2v-4h2v4z\"/>\n",
              "    </g>\n",
              "</svg>\n",
              "  </button>\n",
              "\n",
              "<style>\n",
              "  .colab-df-quickchart {\n",
              "      --bg-color: #E8F0FE;\n",
              "      --fill-color: #1967D2;\n",
              "      --hover-bg-color: #E2EBFA;\n",
              "      --hover-fill-color: #174EA6;\n",
              "      --disabled-fill-color: #AAA;\n",
              "      --disabled-bg-color: #DDD;\n",
              "  }\n",
              "\n",
              "  [theme=dark] .colab-df-quickchart {\n",
              "      --bg-color: #3B4455;\n",
              "      --fill-color: #D2E3FC;\n",
              "      --hover-bg-color: #434B5C;\n",
              "      --hover-fill-color: #FFFFFF;\n",
              "      --disabled-bg-color: #3B4455;\n",
              "      --disabled-fill-color: #666;\n",
              "  }\n",
              "\n",
              "  .colab-df-quickchart {\n",
              "    background-color: var(--bg-color);\n",
              "    border: none;\n",
              "    border-radius: 50%;\n",
              "    cursor: pointer;\n",
              "    display: none;\n",
              "    fill: var(--fill-color);\n",
              "    height: 32px;\n",
              "    padding: 0;\n",
              "    width: 32px;\n",
              "  }\n",
              "\n",
              "  .colab-df-quickchart:hover {\n",
              "    background-color: var(--hover-bg-color);\n",
              "    box-shadow: 0 1px 2px rgba(60, 64, 67, 0.3), 0 1px 3px 1px rgba(60, 64, 67, 0.15);\n",
              "    fill: var(--button-hover-fill-color);\n",
              "  }\n",
              "\n",
              "  .colab-df-quickchart-complete:disabled,\n",
              "  .colab-df-quickchart-complete:disabled:hover {\n",
              "    background-color: var(--disabled-bg-color);\n",
              "    fill: var(--disabled-fill-color);\n",
              "    box-shadow: none;\n",
              "  }\n",
              "\n",
              "  .colab-df-spinner {\n",
              "    border: 2px solid var(--fill-color);\n",
              "    border-color: transparent;\n",
              "    border-bottom-color: var(--fill-color);\n",
              "    animation:\n",
              "      spin 1s steps(1) infinite;\n",
              "  }\n",
              "\n",
              "  @keyframes spin {\n",
              "    0% {\n",
              "      border-color: transparent;\n",
              "      border-bottom-color: var(--fill-color);\n",
              "      border-left-color: var(--fill-color);\n",
              "    }\n",
              "    20% {\n",
              "      border-color: transparent;\n",
              "      border-left-color: var(--fill-color);\n",
              "      border-top-color: var(--fill-color);\n",
              "    }\n",
              "    30% {\n",
              "      border-color: transparent;\n",
              "      border-left-color: var(--fill-color);\n",
              "      border-top-color: var(--fill-color);\n",
              "      border-right-color: var(--fill-color);\n",
              "    }\n",
              "    40% {\n",
              "      border-color: transparent;\n",
              "      border-right-color: var(--fill-color);\n",
              "      border-top-color: var(--fill-color);\n",
              "    }\n",
              "    60% {\n",
              "      border-color: transparent;\n",
              "      border-right-color: var(--fill-color);\n",
              "    }\n",
              "    80% {\n",
              "      border-color: transparent;\n",
              "      border-right-color: var(--fill-color);\n",
              "      border-bottom-color: var(--fill-color);\n",
              "    }\n",
              "    90% {\n",
              "      border-color: transparent;\n",
              "      border-bottom-color: var(--fill-color);\n",
              "    }\n",
              "  }\n",
              "</style>\n",
              "\n",
              "  <script>\n",
              "    async function quickchart(key) {\n",
              "      const quickchartButtonEl =\n",
              "        document.querySelector('#' + key + ' button');\n",
              "      quickchartButtonEl.disabled = true;  // To prevent multiple clicks.\n",
              "      quickchartButtonEl.classList.add('colab-df-spinner');\n",
              "      try {\n",
              "        const charts = await google.colab.kernel.invokeFunction(\n",
              "            'suggestCharts', [key], {});\n",
              "      } catch (error) {\n",
              "        console.error('Error during call to suggestCharts:', error);\n",
              "      }\n",
              "      quickchartButtonEl.classList.remove('colab-df-spinner');\n",
              "      quickchartButtonEl.classList.add('colab-df-quickchart-complete');\n",
              "    }\n",
              "    (() => {\n",
              "      let quickchartButtonEl =\n",
              "        document.querySelector('#df-892f2178-8f8b-4569-83cd-c0ad714a49a1 button');\n",
              "      quickchartButtonEl.style.display =\n",
              "        google.colab.kernel.accessAllowed ? 'block' : 'none';\n",
              "    })();\n",
              "  </script>\n",
              "</div>\n",
              "\n",
              "    </div>\n",
              "  </div>\n"
            ],
            "application/vnd.google.colaboratory.intrinsic+json": {
              "type": "dataframe",
              "variable_name": "df",
              "summary": "{\n  \"name\": \"df\",\n  \"rows\": 500,\n  \"fields\": [\n    {\n      \"column\": \"project_id\",\n      \"properties\": {\n        \"dtype\": \"number\",\n        \"std\": 144,\n        \"min\": 1,\n        \"max\": 500,\n        \"num_unique_values\": 500,\n        \"samples\": [\n          74,\n          399,\n          108\n        ],\n        \"semantic_type\": \"\",\n        \"description\": \"\"\n      }\n    },\n    {\n      \"column\": \"title\",\n      \"properties\": {\n        \"dtype\": \"string\",\n        \"num_unique_values\": 424,\n        \"samples\": [\n          \"Virtual Reality Meditation App\",\n          \"Cryptocurrency Price Tracker App\",\n          \"Smart Home Voice Command System\"\n        ],\n        \"semantic_type\": \"\",\n        \"description\": \"\"\n      }\n    },\n    {\n      \"column\": \"description\",\n      \"properties\": {\n        \"dtype\": \"string\",\n        \"num_unique_values\": 499,\n        \"samples\": [\n          \"Create a secure platform for online voting with authentication.\",\n          \"Develop a tool that analyzes customer feedback using AI.\",\n          \"Develop an app to help users learn new languages.\"\n        ],\n        \"semantic_type\": \"\",\n        \"description\": \"\"\n      }\n    },\n    {\n      \"column\": \"skills_required\",\n      \"properties\": {\n        \"dtype\": \"category\",\n        \"num_unique_values\": 189,\n        \"samples\": [\n          \"React, Node.js, Firebase\",\n          \"JavaScript, React, Node.js\",\n          \"Python, TensorFlow, Flutter\"\n        ],\n        \"semantic_type\": \"\",\n        \"description\": \"\"\n      }\n    },\n    {\n      \"column\": \"difficulty_level\",\n      \"properties\": {\n        \"dtype\": \"category\",\n        \"num_unique_values\": 3,\n        \"samples\": [\n          \"Medium\",\n          \"Hard\",\n          \"Easy\"\n        ],\n        \"semantic_type\": \"\",\n        \"description\": \"\"\n      }\n    },\n    {\n      \"column\": \"category\",\n      \"properties\": {\n        \"dtype\": \"category\",\n        \"num_unique_values\": 18,\n        \"samples\": [\n          \"AI/ML\",\n          \"AI/ML, IoT\",\n          \"Data Science\"\n        ],\n        \"semantic_type\": \"\",\n        \"description\": \"\"\n      }\n    },\n    {\n      \"column\": \"keywords\",\n      \"properties\": {\n        \"dtype\": \"string\",\n        \"num_unique_values\": 486,\n        \"samples\": [\n          \"e-commerce, customizable, website, store\",\n          \"task, management, app, project\",\n          \"document, management, cloud, system\"\n        ],\n        \"semantic_type\": \"\",\n        \"description\": \"\"\n      }\n    },\n    {\n      \"column\": \"links\",\n      \"properties\": {\n        \"dtype\": \"category\",\n        \"num_unique_values\": 39,\n        \"samples\": [\n          \"https://youtu.be/M57ZEnKDB-4?si=twIuOZKf5dPHXPAE\",\n          \"https://youtu.be/wwk02KuxRIE?si=1RO3przPqMk2qkoP\",\n          \"https://youtu.be/4fvldV2q8hI?si=D0Pc_nGmyy9jp5SX\"\n        ],\n        \"semantic_type\": \"\",\n        \"description\": \"\"\n      }\n    },\n    {\n      \"column\": \"image\",\n      \"properties\": {\n        \"dtype\": \"category\",\n        \"num_unique_values\": 17,\n        \"samples\": [\n          \"https://drive.google.com/uc?export=download&id=12Sne7MkcyHI4SjYPCONzqhxFKPwOQD_R\",\n          \"https://drive.google.com/uc?export=download&id=1cdEdoewU6qUdfsMlwr62DNBaUdGlKTl8\",\n          \"https://drive.google.com/uc?export=download&id=1OcsLmhGwuixQqsQGuOlf6-ShNMg8Jmh8\"\n        ],\n        \"semantic_type\": \"\",\n        \"description\": \"\"\n      }\n    }\n  ]\n}"
            }
          },
          "metadata": {},
          "execution_count": 138
        }
      ]
    },
    {
      "cell_type": "code",
      "source": [
        "df.info()"
      ],
      "metadata": {
        "colab": {
          "base_uri": "https://localhost:8080/"
        },
        "id": "Vk2YhksVrHZk",
        "outputId": "7141d1fc-5c95-4dba-ab65-67e086c8c0b8"
      },
      "execution_count": 139,
      "outputs": [
        {
          "output_type": "stream",
          "name": "stdout",
          "text": [
            "<class 'pandas.core.frame.DataFrame'>\n",
            "RangeIndex: 500 entries, 0 to 499\n",
            "Data columns (total 9 columns):\n",
            " #   Column            Non-Null Count  Dtype \n",
            "---  ------            --------------  ----- \n",
            " 0   project_id        500 non-null    int64 \n",
            " 1   title             500 non-null    object\n",
            " 2   description       500 non-null    object\n",
            " 3   skills_required   500 non-null    object\n",
            " 4   difficulty_level  500 non-null    object\n",
            " 5   category          500 non-null    object\n",
            " 6   keywords          500 non-null    object\n",
            " 7   links             45 non-null     object\n",
            " 8   image             500 non-null    object\n",
            "dtypes: int64(1), object(8)\n",
            "memory usage: 35.3+ KB\n"
          ]
        }
      ]
    },
    {
      "cell_type": "code",
      "source": [
        "df.isnull().sum()"
      ],
      "metadata": {
        "colab": {
          "base_uri": "https://localhost:8080/",
          "height": 366
        },
        "id": "zBUWQIA6rMYI",
        "outputId": "6ca47d9a-4580-4cf7-b704-f3a97f6f49ef"
      },
      "execution_count": 140,
      "outputs": [
        {
          "output_type": "execute_result",
          "data": {
            "text/plain": [
              "project_id            0\n",
              "title                 0\n",
              "description           0\n",
              "skills_required       0\n",
              "difficulty_level      0\n",
              "category              0\n",
              "keywords              0\n",
              "links               455\n",
              "image                 0\n",
              "dtype: int64"
            ],
            "text/html": [
              "<div>\n",
              "<style scoped>\n",
              "    .dataframe tbody tr th:only-of-type {\n",
              "        vertical-align: middle;\n",
              "    }\n",
              "\n",
              "    .dataframe tbody tr th {\n",
              "        vertical-align: top;\n",
              "    }\n",
              "\n",
              "    .dataframe thead th {\n",
              "        text-align: right;\n",
              "    }\n",
              "</style>\n",
              "<table border=\"1\" class=\"dataframe\">\n",
              "  <thead>\n",
              "    <tr style=\"text-align: right;\">\n",
              "      <th></th>\n",
              "      <th>0</th>\n",
              "    </tr>\n",
              "  </thead>\n",
              "  <tbody>\n",
              "    <tr>\n",
              "      <th>project_id</th>\n",
              "      <td>0</td>\n",
              "    </tr>\n",
              "    <tr>\n",
              "      <th>title</th>\n",
              "      <td>0</td>\n",
              "    </tr>\n",
              "    <tr>\n",
              "      <th>description</th>\n",
              "      <td>0</td>\n",
              "    </tr>\n",
              "    <tr>\n",
              "      <th>skills_required</th>\n",
              "      <td>0</td>\n",
              "    </tr>\n",
              "    <tr>\n",
              "      <th>difficulty_level</th>\n",
              "      <td>0</td>\n",
              "    </tr>\n",
              "    <tr>\n",
              "      <th>category</th>\n",
              "      <td>0</td>\n",
              "    </tr>\n",
              "    <tr>\n",
              "      <th>keywords</th>\n",
              "      <td>0</td>\n",
              "    </tr>\n",
              "    <tr>\n",
              "      <th>links</th>\n",
              "      <td>455</td>\n",
              "    </tr>\n",
              "    <tr>\n",
              "      <th>image</th>\n",
              "      <td>0</td>\n",
              "    </tr>\n",
              "  </tbody>\n",
              "</table>\n",
              "</div><br><label><b>dtype:</b> int64</label>"
            ]
          },
          "metadata": {},
          "execution_count": 140
        }
      ]
    },
    {
      "cell_type": "code",
      "source": [
        "import numpy as np\n",
        "np.unique(df['title'])"
      ],
      "metadata": {
        "colab": {
          "base_uri": "https://localhost:8080/"
        },
        "id": "fjBfA5BeD86z",
        "outputId": "59fd5716-809a-4376-bf13-7d80bf4921b5"
      },
      "execution_count": 141,
      "outputs": [
        {
          "output_type": "execute_result",
          "data": {
            "text/plain": [
              "array(['AI Chatbot', 'AI Chatbot for Customer Support',\n",
              "       'AI-Based Essay Grader', 'AI-Based Fraud Detection System',\n",
              "       'AI-Based Image Recognition', 'AI-Based Language Translator',\n",
              "       'AI-Based Music Generator', 'AI-Based Recipe Generator',\n",
              "       'AI-Based Recipe Recommendation System', 'AI-Based Resume Builder',\n",
              "       'AI-Based Sentiment Analysis', 'AI-Based Video Compression',\n",
              "       'AI-Driven Chatbot for Customer Service',\n",
              "       'AI-Driven Language Learning App',\n",
              "       'AI-Driven Music Composition Tool', 'AI-Driven News Aggregator',\n",
              "       'AI-Powered Art Generator', 'AI-Powered Chatbot',\n",
              "       'AI-Powered Chatbot for Customer Support',\n",
              "       'AI-Powered Content Recommender',\n",
              "       'AI-Powered Customer Feedback Tool',\n",
              "       'AI-Powered Customer Sentiment Analysis',\n",
              "       'AI-Powered Data Analysis Tool', 'AI-Powered Document Classifier',\n",
              "       'AI-Powered Fraud Detection', 'AI-Powered Fraud Detection Tool',\n",
              "       'AI-Powered Image Editor', 'AI-Powered Job Matching System',\n",
              "       'AI-Powered Job Recommendation System',\n",
              "       'AI-Powered Legal Document Review',\n",
              "       'AI-Powered Marketing Platform', 'AI-Powered Music Composition',\n",
              "       'AI-Powered Personal Assistant',\n",
              "       'AI-Powered Personalized Learning App',\n",
              "       'AI-Powered Resume Builder', 'AI-Powered Resume Parser',\n",
              "       'AI-Powered Resume Scanner', 'AI-Powered Resume Screening',\n",
              "       'AI-Powered Stock Prediction', 'AI-Powered Stock Predictor',\n",
              "       'AI-Powered Text Summarizer', 'AI-Powered Video Analytics',\n",
              "       'AI-Powered Video Editor', 'AI-Powered Virtual Assistant',\n",
              "       'AR Shopping Experience', 'Augmented Reality App',\n",
              "       'Augmented Reality Furniture App',\n",
              "       'Augmented Reality Home Decor App',\n",
              "       'Augmented Reality Museum Guide', 'Augmented Reality Navigation',\n",
              "       'Augmented Reality Navigation App',\n",
              "       'Augmented Reality Shopping App', 'Automated Backup System',\n",
              "       'Automated Content Generator', 'Automated Data Backup System',\n",
              "       'Automated Data Entry System', 'Automated Email Campaigns',\n",
              "       'Automated Email Marketing System',\n",
              "       'Automated Email Response System', 'Automated Email System',\n",
              "       'Automated Essay Grader', 'Automated Essay Grading System',\n",
              "       'Automated Invoice Generator', 'Automated Job Board',\n",
              "       'Automated Job Posting System', 'Automated Lead Generation',\n",
              "       'Automated News Aggregator', 'Automated News Generator',\n",
              "       'Automated Resume Generator', 'Automated Social Media Posting',\n",
              "       'Automated Social Media Posts', 'Automated Stock Trading Bot',\n",
              "       'Automated Stock Trading System', 'Automated Survey Tool',\n",
              "       'Automated Test Management Tool',\n",
              "       'Automated Vehicle Tracking System',\n",
              "       'Automated Video Thumbnail Maker', 'Automated Weather Forecasting',\n",
              "       'Automated Website Testing', 'Automated Workflow for HR',\n",
              "       'Automatic Code Formatter', 'Blockchain App',\n",
              "       'Blockchain Voting System', 'Blockchain-Based Loan System',\n",
              "       'Blockchain-Based Voting System', 'Book Review Platform',\n",
              "       'Budget Planner App', 'Car Maintenance Tracker',\n",
              "       'Car Rental Booking System', 'Car Rental Service',\n",
              "       'Car Rental System', 'Chat Application',\n",
              "       'Chatbot for Customer Support', 'Chatbot for FAQ',\n",
              "       'Chatbot for Online Support', 'Cloud File Storage System',\n",
              "       'Cloud Storage Service', 'Cloud Storage System',\n",
              "       'Cloud-Based Document Editor', 'Cloud-Based File Converter',\n",
              "       'Cloud-Based File Storage', 'Cloud-Based File Storage System',\n",
              "       'Cloud-Based HR Management', 'Cloud-Based Inventory Management',\n",
              "       'Cloud-Based Video Editing Tool', 'Collaborative Coding Platform',\n",
              "       'Collaborative Project Management', 'Collaborative Whiteboard App',\n",
              "       'Community Forum Platform', 'Cryptocurrency Exchange',\n",
              "       'Cryptocurrency Miner', 'Cryptocurrency News Aggregator',\n",
              "       'Cryptocurrency Portfolio Tracker', 'Cryptocurrency Price Alert',\n",
              "       'Cryptocurrency Price Prediction',\n",
              "       'Cryptocurrency Price Tracker App', 'Cryptocurrency Tracker',\n",
              "       'Cryptocurrency Trading Bot', 'Cryptocurrency Trading Simulator',\n",
              "       'Cryptocurrency Wallet', 'Cryptocurrency Wallet App',\n",
              "       'Custom CRM System', 'Custom E-Commerce Platform',\n",
              "       'Customer Loyalty Program System', 'Customizable Blog Platform',\n",
              "       'Customizable Budgeting Tool', 'Customizable CRM System',\n",
              "       'Customizable Calendar App', 'Customizable E-Commerce Website',\n",
              "       'Customizable Email Template Builder', 'Customizable Fitness App',\n",
              "       'Customizable Form Builder', 'Customizable News Reader',\n",
              "       'Customizable Online Quiz Builder', 'Customizable Task Management',\n",
              "       'Database System', 'Digital Art Gallery', 'Digital Art Generator',\n",
              "       'Digital Clock', 'Digital Document Management System',\n",
              "       'Digital Health Record System', 'Digital Library System',\n",
              "       'Digital Marketing Analytics Dashboard',\n",
              "       'Digital Marketing Analytics Tool', 'Digital Marketing Dashboard',\n",
              "       'Digital Passport System', 'Digital Payment Gateway',\n",
              "       'Digital Payment System', 'Digital Portfolio Builder',\n",
              "       'Digital Resume Builder', 'Digital Signature System',\n",
              "       'Digital Wallet System', 'Document Collaboration Tool',\n",
              "       'Document Management System', 'Document Scanner',\n",
              "       'Document Scanning App', 'Drone-Controlled Camera',\n",
              "       'E-Commerce Product Recommendation System',\n",
              "       'E-Commerce Product Review System', 'E-commerce Chatbot',\n",
              "       'E-commerce Platform', 'E-commerce Product Recommendations',\n",
              "       'E-commerce Website', 'E-learning Content Management',\n",
              "       'Email Automation Tool', 'Employee Attendance System',\n",
              "       'Employee Feedback System', 'Employee Performance Evaluation',\n",
              "       'Event Management System', 'Event Ticketing System',\n",
              "       'Expense Splitter App', 'Expense Tracker App',\n",
              "       'Face Detection System', 'Facial Recognition System',\n",
              "       'Fashion Styling App', 'File Compression Tool',\n",
              "       'Fitness Challenge App', 'Fitness Class Booking App',\n",
              "       'Fitness Coaching Platform', 'Fitness Tracker',\n",
              "       'Fitness Tracker App', 'Fitness Tracker with Wearable',\n",
              "       'Fleet Management System', 'Food Delivery App',\n",
              "       'Food Delivery System', 'Food Waste Tracker App', 'GPS Tracker',\n",
              "       'Game Development Platform', 'Health & Wellness Dashboard',\n",
              "       'Health Monitoring App', 'Health Monitoring System',\n",
              "       'Home Automation System', 'Image Editing App', 'Image Filter App',\n",
              "       'Image Recognition', 'Interactive 3D Portfolio',\n",
              "       'Interactive Learning App', 'Interactive Learning Dashboard',\n",
              "       'Interactive Learning Platform', 'Interactive Quiz App',\n",
              "       'Interactive Recipe App', 'Interactive Voice Response',\n",
              "       'Inventory Management System', 'IoT Security System',\n",
              "       'IoT Smart Home System', 'IoT Smart Irrigation System',\n",
              "       'IoT Weather Station', 'IoT-Based Air Quality Monitor',\n",
              "       'IoT-Based Energy Monitoring System',\n",
              "       'IoT-Based Home Security System',\n",
              "       'IoT-Based Smart Home Automation',\n",
              "       'IoT-Based Smart Parking System', 'IoT-Based Smart Watch',\n",
              "       'IoT-Based Smart Watering System', 'Job Application System',\n",
              "       'Job Matching Platform', 'Job Portal', 'Job Portal System',\n",
              "       'Job Scheduling System', 'Language Learning App',\n",
              "       'Language Translator', 'Learning Management System',\n",
              "       'Live Sports Score App', 'Live Streaming Platform',\n",
              "       'Local Event Finder', 'Machine Translation System',\n",
              "       'Marketplace for Freelancers', 'Meal Planning App', 'Mobile App',\n",
              "       'Mobile Banking App', 'Mobile Fitness Tracker',\n",
              "       'Mobile Grocery List App', 'Movie Recommendation App',\n",
              "       'Movie Ticket Booking System', 'Multi-User Note-Taking App',\n",
              "       'Multiplayer Game', 'Music Recommendation App',\n",
              "       'Music Streaming App', 'Music Streaming Service',\n",
              "       'News Aggregator', 'News Aggregator App',\n",
              "       'On-Demand Laundry Service', 'Online Art Gallery',\n",
              "       'Online Auction House', 'Online Auction Platform',\n",
              "       'Online Auction System', 'Online Auction for Art',\n",
              "       'Online Booking System', 'Online Education Platform',\n",
              "       'Online Event Management Platform',\n",
              "       'Online Event Ticketing System', 'Online Food Ordering System',\n",
              "       'Online Freelance Marketplace', 'Online Grocery Delivery System',\n",
              "       'Online Grocery Store', 'Online Learning Management System',\n",
              "       'Online Learning Platform', 'Online Learning Portal',\n",
              "       'Online Marketplace', 'Online Marketplace for Freelancers',\n",
              "       'Online Music Streaming Service', 'Online Polling System',\n",
              "       'Online Quiz System', 'Online Recipe Sharing Platform',\n",
              "       'Online Survey System', 'Online Therapy Platform',\n",
              "       'Online Voting System', 'PDF Generator App',\n",
              "       'PDF Splitter & Merger', 'Peer-to-Peer Lending Platform',\n",
              "       'Personal Blog Platform', 'Personal Finance Advisor',\n",
              "       'Personal Finance App', 'Personal Finance Management App',\n",
              "       'Personal Finance Manager', 'Personal Finance Tracker',\n",
              "       'Personal Finance Tracker App', 'Personal Fitness Coach App',\n",
              "       'Personal Fitness Tracker', 'Personal Goal Tracker App',\n",
              "       'Personal Health Dashboard', 'Personal Inventory App',\n",
              "       'Personal Journal App', 'Personal Learning Assistant',\n",
              "       'Personal Task Reminder', 'Personalized News Reader',\n",
              "       'Personalized Shopping Assistant',\n",
              "       'Personalized Study Planner App', 'Pet Adoption Platform',\n",
              "       'Photo Editing App', 'Predictive Traffic Management',\n",
              "       'Quiz Application', 'Real Estate Management System',\n",
              "       'Real Estate Property Finder', 'Real-Time Chat Application',\n",
              "       'Real-Time Collaborative Whiteboard',\n",
              "       'Real-Time Currency Converter', 'Real-Time Data Dashboard',\n",
              "       'Real-Time Language Translator',\n",
              "       'Real-Time Multiplayer Board Game', 'Real-Time Multiplayer Chat',\n",
              "       'Real-Time Multiplayer Game', 'Real-Time Sports Analytics',\n",
              "       'Real-Time Sports Analytics App', 'Real-Time Sports Score App',\n",
              "       'Real-Time Sports Score Tracker',\n",
              "       'Real-Time Stock Market Dashboard',\n",
              "       'Real-Time Stock Market Tracker', 'Real-Time Stock Tracker',\n",
              "       'Real-Time Traffic Monitoring', 'Real-Time Weather Monitoring',\n",
              "       'Real-time Chat Application', 'Real-time Traffic Updates App',\n",
              "       'Recipe Finder App', 'Recipe Finder and Planner',\n",
              "       'Recipe Generator', 'Recipe Sharing Platform',\n",
              "       'Recipe Sharing and Planner App', 'Recipe Suggestion App',\n",
              "       'Remote Job Board', 'Remote Work Collaboration Tool',\n",
              "       'Restaurant Reservation App', 'Restaurant Reservation System',\n",
              "       'Smart Agriculture System', 'Smart Air Quality Monitoring System',\n",
              "       'Smart Calendar App', 'Smart City Traffic Monitoring',\n",
              "       'Smart City Traffic System', 'Smart Energy Meter',\n",
              "       'Smart Fitness Band App', 'Smart Gardening System',\n",
              "       'Smart Glasses', 'Smart Health Monitoring System',\n",
              "       'Smart Home Automation', 'Smart Home Automation App',\n",
              "       'Smart Home Lighting Control', 'Smart Home Security System',\n",
              "       'Smart Home System', 'Smart Home Voice Command System',\n",
              "       'Smart Inventory Management', 'Smart Light Control System',\n",
              "       'Smart Mirror', 'Smart Mirror App', 'Smart Mirror Display',\n",
              "       'Smart Mirror for Home Automation',\n",
              "       'Smart Parking Assistance System', 'Smart Parking Solution',\n",
              "       'Smart Parking System', 'Smart Plant Care System',\n",
              "       'Smart Plant Watering System', 'Smart Traffic Light System',\n",
              "       'Smart Traffic Management System', 'Smart Traffic Monitoring',\n",
              "       'Smart Waste Management System', 'Social Media Analytics Tool',\n",
              "       'Social Media App', 'Social Media Content Planner',\n",
              "       'Social Media Dashboard', 'Stock Market Analysis Tool',\n",
              "       'Stock Market Predictor', 'Subscription Box Service',\n",
              "       'Supply Chain Management System', 'Task Automation Tool',\n",
              "       'Task Automation for Business', 'Task Automation for Businesses',\n",
              "       'Task Management App', 'Task Management System', 'Task Scheduler',\n",
              "       'Task Scheduling System', 'Time Management App',\n",
              "       'Time Tracking App', 'Traffic Prediction System',\n",
              "       'Traffic Signal Automation', 'Travel Booking System',\n",
              "       'Travel Expense Tracker', 'Travel Itinerary Planner',\n",
              "       'Travel Recommendation App', 'VR-Based Education Platform',\n",
              "       'VR-Based Medical Training', 'Video Conference Scheduler',\n",
              "       'Video Conferencing App', 'Video Conferencing Tool',\n",
              "       'Video Editing Software', 'Video Editing Tool',\n",
              "       'Video Streaming Platform', 'Video Streaming Service',\n",
              "       'Virtual Assistant', 'Virtual Classroom',\n",
              "       'Virtual Classroom Platform', 'Virtual Event Platform',\n",
              "       'Virtual Fitness Coach', 'Virtual Fitness Instructor',\n",
              "       'Virtual Fitness Trainer', 'Virtual Home Staging',\n",
              "       'Virtual Lab Simulation', 'Virtual Pet App',\n",
              "       'Virtual Real Estate Tour App',\n",
              "       'Virtual Reality Education Platform',\n",
              "       'Virtual Reality Fitness App', 'Virtual Reality Fitness Game',\n",
              "       'Virtual Reality Fitness Trainer', 'Virtual Reality Game',\n",
              "       'Virtual Reality Meditation App',\n",
              "       'Virtual Reality Shopping Experience', 'Virtual Reality Tour',\n",
              "       'Virtual Reality Travel Experience', 'Virtual Shopping Assistant',\n",
              "       'Virtual Shopping Experience', 'Virtual Shopping Mall',\n",
              "       'Virtual Stock Trading Simulator', 'Virtual Study Group Platform',\n",
              "       'Virtual Whiteboard', 'Voice Assistant',\n",
              "       'Voice Controlled Virtual Assistant', 'Voice Recognition App',\n",
              "       'Voice-Activated Smart Mirror', 'Voice-Controlled Assistant',\n",
              "       'Voice-Controlled Home Assistant', 'Voting System', 'Weather App',\n",
              "       'Weather Forecasting System', 'Web Scraping',\n",
              "       'Wedding Photo Sharing Platform', 'Wedding Planning App'],\n",
              "      dtype=object)"
            ]
          },
          "metadata": {},
          "execution_count": 141
        }
      ]
    },
    {
      "cell_type": "markdown",
      "source": [
        "# Natural Language Processing with Naieve bayes classfier"
      ],
      "metadata": {
        "id": "kPIht5pLP55N"
      }
    },
    {
      "cell_type": "code",
      "source": [
        "# Select input features and target label\n",
        "X = df[['skills_required', 'difficulty_level', 'category', 'keywords']].astype(str).agg(' '.join, axis=1)\n",
        "y = df['title']\n",
        "\n",
        "\n",
        "\n",
        "# Remove classes with fewer than 2 samples\n",
        "filtered_df = df[df['title'].isin(df['title'].value_counts()[df['title'].value_counts() > 1].index)]\n",
        "\n",
        "# Update input features and target label\n",
        "X = filtered_df[['skills_required', 'difficulty_level', 'category', 'keywords']].astype(str).agg(' '.join, axis=1)\n",
        "y = filtered_df['title']\n",
        "\n",
        "\n",
        "\n"
      ],
      "metadata": {
        "id": "dg8RYlDXP-g9"
      },
      "execution_count": 142,
      "outputs": []
    },
    {
      "cell_type": "code",
      "source": [
        "len(np.unique(X))"
      ],
      "metadata": {
        "colab": {
          "base_uri": "https://localhost:8080/"
        },
        "id": "xXI17LFZRNA1",
        "outputId": "fdc1e115-4540-4be8-b155-1926f148e539"
      },
      "execution_count": 143,
      "outputs": [
        {
          "output_type": "execute_result",
          "data": {
            "text/plain": [
              "132"
            ]
          },
          "metadata": {},
          "execution_count": 143
        }
      ]
    },
    {
      "cell_type": "code",
      "source": [
        "# Split the dataset into training and testing sets\n",
        "X_train, X_test, y_train, y_test = train_test_split(X, y, test_size=0.5, random_state=42, stratify=y)\n",
        "\n",
        "# Create a pipeline with CountVectorizer and MultinomialNB\n",
        "pipeline = make_pipeline(CountVectorizer(), MultinomialNB())\n",
        "\n",
        "# Train the classifier\n",
        "pipeline.fit(X_train, y_train)\n",
        "\n",
        "# Make predictions\n",
        "y_pred = pipeline.predict(X_test)\n",
        "\n",
        "# Evaluate the model\n",
        "classification_report_result = classification_report(y_test, y_pred)\n",
        "\n",
        "classification_report_result"
      ],
      "metadata": {
        "colab": {
          "base_uri": "https://localhost:8080/",
          "height": 241
        },
        "id": "h5vdGAQIQyxt",
        "outputId": "a6b7d1ad-e254-4976-9064-1d06d8569516"
      },
      "execution_count": 144,
      "outputs": [
        {
          "output_type": "stream",
          "name": "stderr",
          "text": [
            "/usr/local/lib/python3.10/dist-packages/sklearn/metrics/_classification.py:1565: UndefinedMetricWarning: Precision is ill-defined and being set to 0.0 in labels with no predicted samples. Use `zero_division` parameter to control this behavior.\n",
            "  _warn_prf(average, modifier, f\"{metric.capitalize()} is\", len(result))\n",
            "/usr/local/lib/python3.10/dist-packages/sklearn/metrics/_classification.py:1565: UndefinedMetricWarning: Precision is ill-defined and being set to 0.0 in labels with no predicted samples. Use `zero_division` parameter to control this behavior.\n",
            "  _warn_prf(average, modifier, f\"{metric.capitalize()} is\", len(result))\n",
            "/usr/local/lib/python3.10/dist-packages/sklearn/metrics/_classification.py:1565: UndefinedMetricWarning: Precision is ill-defined and being set to 0.0 in labels with no predicted samples. Use `zero_division` parameter to control this behavior.\n",
            "  _warn_prf(average, modifier, f\"{metric.capitalize()} is\", len(result))\n"
          ]
        },
        {
          "output_type": "execute_result",
          "data": {
            "text/plain": [
              "'                                    precision    recall  f1-score   support\\n\\n      AI-Based Language Translator       0.00      0.00      0.00         1\\n                AI-Powered Chatbot       0.00      0.00      0.00         1\\n           AI-Powered Image Editor       1.00      1.00      1.00         1\\n     AI-Powered Personal Assistant       0.00      0.00      0.00         1\\n         AI-Powered Resume Builder       0.20      1.00      0.33         1\\n    Augmented Reality Shopping App       1.00      1.00      1.00         1\\n       Automated Invoice Generator       1.00      1.00      1.00         1\\n      Automated Social Media Posts       0.00      0.00      0.00         2\\n                Budget Planner App       0.00      0.00      0.00         1\\n         Car Rental Booking System       0.00      0.00      0.00         1\\n                 Car Rental System       0.00      0.00      0.00         1\\n             Cloud Storage Service       0.00      0.00      0.00         1\\n   Cloud-Based File Storage System       0.00      0.00      0.00         1\\n           Cryptocurrency Exchange       0.00      0.00      0.00         1\\n  Cryptocurrency Portfolio Tracker       0.67      1.00      0.80         2\\n         Cryptocurrency Wallet App       0.00      0.00      0.00         1\\n                 Custom CRM System       0.00      0.00      0.00         1\\n        Customizable Blog Platform       1.00      1.00      1.00         1\\n         Customizable Calendar App       0.00      0.00      0.00         1\\n            Digital Library System       0.00      0.00      0.00         1\\n         Digital Portfolio Builder       0.00      0.00      0.00         1\\n             Digital Wallet System       0.00      0.00      0.00         1\\n       Document Collaboration Tool       0.00      0.00      0.00         1\\n        Employee Attendance System       0.00      0.00      0.00         1\\n           Event Management System       0.00      0.00      0.00         2\\n            Event Ticketing System       0.00      0.00      0.00         2\\n               Fitness Tracker App       0.00      0.00      0.00         1\\n       Inventory Management System       0.25      1.00      0.40         1\\n             Language Learning App       0.10      1.00      0.18         1\\n           Online Auction Platform       0.00      0.00      0.00         1\\n             Online Auction System       0.00      0.00      0.00         2\\n              Online Grocery Store       0.00      0.00      0.00         1\\n          Online Learning Platform       0.33      1.00      0.50         1\\n                Online Marketplace       0.00      0.00      0.00         1\\nOnline Marketplace for Freelancers       0.00      0.00      0.00         1\\n              Online Voting System       0.00      0.00      0.00         1\\n   Personal Finance Management App       0.00      0.00      0.00         1\\n         Personal Health Dashboard       0.00      0.00      0.00         1\\n        Real-Time Chat Application       1.00      0.50      0.67         2\\n          Real-Time Data Dashboard       0.00      0.00      0.00         1\\n        Real-Time Multiplayer Game       1.00      1.00      1.00         2\\n    Real-Time Sports Score Tracker       0.00      0.00      0.00         2\\n      Real-Time Traffic Monitoring       0.00      0.00      0.00         1\\n         Smart City Traffic System       0.50      1.00      0.67         1\\n    Smart Health Monitoring System       1.00      1.00      1.00         1\\n              Smart Parking System       1.00      1.00      1.00         1\\n       Social Media Analytics Tool       0.50      1.00      0.67         2\\n      Social Media Content Planner       0.07      1.00      0.12         1\\n          Subscription Box Service       1.00      1.00      1.00         1\\n               Task Management App       0.00      0.00      0.00         1\\n                 Time Tracking App       0.00      0.00      0.00         1\\n            Travel Expense Tracker       0.00      0.00      0.00         1\\n            Video Editing Software       1.00      1.00      1.00         1\\n          Video Streaming Platform       0.00      0.00      0.00         1\\n            Virtual Event Platform       0.00      0.00      0.00         1\\n              Virtual Reality Game       1.00      1.00      1.00         1\\n        Virtual Shopping Assistant       1.00      0.50      0.67         2\\n\\n                          accuracy                           0.34        67\\n                         macro avg       0.26      0.33      0.26        67\\n                      weighted avg       0.28      0.34      0.28        67\\n'"
            ],
            "application/vnd.google.colaboratory.intrinsic+json": {
              "type": "string"
            }
          },
          "metadata": {},
          "execution_count": 144
        }
      ]
    },
    {
      "cell_type": "code",
      "source": [
        "from sklearn.metrics import accuracy_score\n",
        "\n",
        "# Calculate accuracy\n",
        "accuracy = accuracy_score(y_test, y_pred)\n",
        "\n",
        "# Print accuracy\n",
        "print(f\"Model Accuracy: {accuracy:.2f}\")\n"
      ],
      "metadata": {
        "colab": {
          "base_uri": "https://localhost:8080/"
        },
        "id": "FaWHxhhERlO9",
        "outputId": "fe85e60e-6e0e-45ed-c7c7-5e769078a075"
      },
      "execution_count": 145,
      "outputs": [
        {
          "output_type": "stream",
          "name": "stdout",
          "text": [
            "Model Accuracy: 0.34\n"
          ]
        }
      ]
    },
    {
      "cell_type": "code",
      "source": [
        "# Example of real data\n",
        "real_data = pd.DataFrame({\n",
        "    'skills_required': ['Python, Data Analysis'],\n",
        "    'difficulty_level': ['Intermediate'],\n",
        "    'category': ['Data Science'],\n",
        "    'keywords': ['Machine Learning, Pandas']\n",
        "})\n",
        "\n",
        "# Combine columns into a single string\n",
        "real_data_combined = real_data.astype(str).agg(' '.join, axis=1)"
      ],
      "metadata": {
        "id": "gvk06DuWRx0y"
      },
      "execution_count": 146,
      "outputs": []
    },
    {
      "cell_type": "code",
      "source": [
        "# Predict using the real data\n",
        "predictions = pipeline.predict(real_data_combined)\n",
        "\n",
        "# Print the predictions\n",
        "print(\"Predicted Titles:\", predictions)"
      ],
      "metadata": {
        "colab": {
          "base_uri": "https://localhost:8080/"
        },
        "id": "pNn2hB68R0-a",
        "outputId": "2eeacee5-9c83-48ae-88ce-529a4042e29a"
      },
      "execution_count": 147,
      "outputs": [
        {
          "output_type": "stream",
          "name": "stdout",
          "text": [
            "Predicted Titles: ['Social Media Analytics Tool']\n"
          ]
        }
      ]
    },
    {
      "cell_type": "markdown",
      "source": [
        "# Over Sampling"
      ],
      "metadata": {
        "id": "ti1MQ4L7SmNv"
      }
    },
    {
      "cell_type": "code",
      "source": [
        "pip install imbalanced-learn"
      ],
      "metadata": {
        "colab": {
          "base_uri": "https://localhost:8080/"
        },
        "id": "o39ut6hXSocv",
        "outputId": "c97ec0a0-a87f-45e3-fce3-ee0d4507bceb"
      },
      "execution_count": 148,
      "outputs": [
        {
          "output_type": "stream",
          "name": "stdout",
          "text": [
            "Requirement already satisfied: imbalanced-learn in /usr/local/lib/python3.10/dist-packages (0.12.4)\n",
            "Requirement already satisfied: numpy>=1.17.3 in /usr/local/lib/python3.10/dist-packages (from imbalanced-learn) (1.26.4)\n",
            "Requirement already satisfied: scipy>=1.5.0 in /usr/local/lib/python3.10/dist-packages (from imbalanced-learn) (1.13.1)\n",
            "Requirement already satisfied: scikit-learn>=1.0.2 in /usr/local/lib/python3.10/dist-packages (from imbalanced-learn) (1.6.0)\n",
            "Requirement already satisfied: joblib>=1.1.1 in /usr/local/lib/python3.10/dist-packages (from imbalanced-learn) (1.4.2)\n",
            "Requirement already satisfied: threadpoolctl>=2.0.0 in /usr/local/lib/python3.10/dist-packages (from imbalanced-learn) (3.5.0)\n"
          ]
        }
      ]
    },
    {
      "cell_type": "code",
      "source": [
        "from imblearn.over_sampling import RandomOverSampler\n",
        "\n",
        "# Combine features into a single string\n",
        "X = df[['skills_required', 'difficulty_level', 'category', 'keywords']].astype(str).agg(' '.join, axis=1)\n",
        "y = df['title']\n",
        "\n",
        "# Apply Random Oversampling\n",
        "oversampler = RandomOverSampler(random_state=42)\n",
        "X_resampled, y_resampled = oversampler.fit_resample(X.to_frame(), y)\n",
        "\n",
        "# Check class distribution after oversampling\n",
        "print(y_resampled.value_counts())"
      ],
      "metadata": {
        "colab": {
          "base_uri": "https://localhost:8080/"
        },
        "id": "AoVAh6CUSqwf",
        "outputId": "f8c8364d-7cbc-46aa-f0f1-75734930f988"
      },
      "execution_count": 149,
      "outputs": [
        {
          "output_type": "stream",
          "name": "stdout",
          "text": [
            "title\n",
            "AI Chatbot                      4\n",
            "Event Management System         4\n",
            "PDF Generator App               4\n",
            "Video Editing Software          4\n",
            "Email Automation Tool           4\n",
            "                               ..\n",
            "VR-Based Medical Training       4\n",
            "Virtual Shopping Experience     4\n",
            "Game Development Platform       4\n",
            "Augmented Reality Navigation    4\n",
            "Online Food Ordering System     4\n",
            "Name: count, Length: 424, dtype: int64\n"
          ]
        },
        {
          "output_type": "stream",
          "name": "stderr",
          "text": [
            "/usr/local/lib/python3.10/dist-packages/sklearn/base.py:484: FutureWarning: `BaseEstimator._check_n_features` is deprecated in 1.6 and will be removed in 1.7. Use `sklearn.utils.validation._check_n_features` instead.\n",
            "  warnings.warn(\n",
            "/usr/local/lib/python3.10/dist-packages/sklearn/base.py:493: FutureWarning: `BaseEstimator._check_feature_names` is deprecated in 1.6 and will be removed in 1.7. Use `sklearn.utils.validation._check_feature_names` instead.\n",
            "  warnings.warn(\n"
          ]
        }
      ]
    },
    {
      "cell_type": "code",
      "source": [
        "from imblearn.over_sampling import RandomOverSampler\n",
        "from sklearn.model_selection import train_test_split\n",
        "from sklearn.pipeline import make_pipeline\n",
        "from sklearn.feature_extraction.text import CountVectorizer\n",
        "from sklearn.naive_bayes import MultinomialNB\n",
        "\n",
        "# Combine features into a single string\n",
        "X = df[['skills_required', 'difficulty_level', 'category', 'keywords']].astype(str).agg(' '.join, axis=1)\n",
        "y = df['title']\n",
        "\n",
        "# Apply Random Oversampling\n",
        "oversampler = RandomOverSampler(random_state=42)\n",
        "X_resampled, y_resampled = oversampler.fit_resample(X.to_frame(name='combined_features'), y)\n",
        "\n",
        "# Split the dataset into training and testing sets\n",
        "X_train, X_test, y_train, y_test = train_test_split(\n",
        "    X_resampled['combined_features'], y_resampled, test_size=0.5, random_state=42, stratify=y_resampled\n",
        ")\n",
        "\n",
        "# Create a pipeline with CountVectorizer and MultinomialNB\n",
        "pipeline = make_pipeline(CountVectorizer(), MultinomialNB())\n",
        "\n",
        "# Train the classifier\n",
        "pipeline.fit(X_train, y_train)\n",
        "\n",
        "# Make predictions\n",
        "y_pred = pipeline.predict(X_test)\n",
        "\n",
        "# Check class distribution after oversampling\n",
        "print(y_resampled.value_counts())\n"
      ],
      "metadata": {
        "colab": {
          "base_uri": "https://localhost:8080/"
        },
        "id": "59BiAaqOSup3",
        "outputId": "b00c3691-8932-44eb-dae4-a28533ea87c8"
      },
      "execution_count": 150,
      "outputs": [
        {
          "output_type": "stream",
          "name": "stderr",
          "text": [
            "/usr/local/lib/python3.10/dist-packages/sklearn/base.py:484: FutureWarning: `BaseEstimator._check_n_features` is deprecated in 1.6 and will be removed in 1.7. Use `sklearn.utils.validation._check_n_features` instead.\n",
            "  warnings.warn(\n",
            "/usr/local/lib/python3.10/dist-packages/sklearn/base.py:493: FutureWarning: `BaseEstimator._check_feature_names` is deprecated in 1.6 and will be removed in 1.7. Use `sklearn.utils.validation._check_feature_names` instead.\n",
            "  warnings.warn(\n"
          ]
        },
        {
          "output_type": "stream",
          "name": "stdout",
          "text": [
            "title\n",
            "AI Chatbot                      4\n",
            "Event Management System         4\n",
            "PDF Generator App               4\n",
            "Video Editing Software          4\n",
            "Email Automation Tool           4\n",
            "                               ..\n",
            "VR-Based Medical Training       4\n",
            "Virtual Shopping Experience     4\n",
            "Game Development Platform       4\n",
            "Augmented Reality Navigation    4\n",
            "Online Food Ordering System     4\n",
            "Name: count, Length: 424, dtype: int64\n"
          ]
        }
      ]
    },
    {
      "cell_type": "code",
      "source": [
        "from sklearn.metrics import accuracy_score\n",
        "\n",
        "# Calculate accuracy\n",
        "accuracy = accuracy_score(y_test, y_pred)\n",
        "\n",
        "# Print accuracy\n",
        "print(f\"Model Accuracy: {accuracy:.2f}\")"
      ],
      "metadata": {
        "colab": {
          "base_uri": "https://localhost:8080/"
        },
        "id": "HhuIVCUKTB7A",
        "outputId": "9a12bb76-293f-4df5-e3bd-2b1226b2c205"
      },
      "execution_count": 151,
      "outputs": [
        {
          "output_type": "stream",
          "name": "stdout",
          "text": [
            "Model Accuracy: 0.94\n"
          ]
        }
      ]
    },
    {
      "cell_type": "markdown",
      "source": [
        "## How the test should be ?"
      ],
      "metadata": {
        "id": "q6Y4OY8gUGVn"
      }
    },
    {
      "cell_type": "code",
      "source": [
        "# Example of real data\n",
        "real_data = pd.DataFrame({\n",
        "    'skills_required': ['Python, Data Analysis'],\n",
        "    'difficulty_level': ['Intermediate'],\n",
        "    'category': ['Data Science'],\n",
        "    'keywords': ['Machine Learning, Pandas']\n",
        "})\n",
        "\n",
        "# Combine columns into a single string\n",
        "real_data_combined = real_data.astype(str).agg(' '.join, axis=1)"
      ],
      "metadata": {
        "id": "5y6hyPYNUDQf"
      },
      "execution_count": 152,
      "outputs": []
    },
    {
      "cell_type": "code",
      "source": [
        "# Predict using the real data\n",
        "predictions = pipeline.predict(real_data_combined)\n",
        "\n",
        "# Print the predictions\n",
        "print(\"Predicted Titles:\", predictions)"
      ],
      "metadata": {
        "colab": {
          "base_uri": "https://localhost:8080/"
        },
        "id": "1w-j-pEBUNBv",
        "outputId": "bdcaedd2-bfc3-43c6-d81c-41d4b7544dc9"
      },
      "execution_count": 153,
      "outputs": [
        {
          "output_type": "stream",
          "name": "stdout",
          "text": [
            "Predicted Titles: ['AI-Powered Data Analysis Tool']\n"
          ]
        }
      ]
    },
    {
      "cell_type": "markdown",
      "source": [
        "# Open AI API Test"
      ],
      "metadata": {
        "id": "5cCcaF9kZUjx"
      }
    },
    {
      "cell_type": "code",
      "source": [
        "# import openai\n",
        "\n",
        "# # Your OpenAI API key\n",
        "# openai.api_key = \"\"\n",
        "\n",
        "# # Sample extracted text (replace this with the text extracted from any OCR tool or input manually)\n",
        "# extracted_text = \"\"\"\n",
        "# Skills Required:\n",
        "# Difficulty Level:\n",
        "# Category:\n",
        "# Keywords:\n",
        "# \"\"\"\n",
        "\n",
        "# # Prompt to extract features\n",
        "# response = openai.ChatCompletion.create(\n",
        "#     model=\"gpt-4\",\n",
        "#     messages=[\n",
        "#         {\"role\": \"system\", \"content\": \"Extract features: skills_required, difficulty_level, category, keywords and return it as dictionary.\"},\n",
        "#         {\"role\": \"user\", \"content\": extracted_text}\n",
        "#     ]\n",
        "# )\n",
        "\n",
        "# # Parse and print response\n",
        "# features = response['choices'][0]['message']['content']\n",
        "# print(features)\n"
      ],
      "metadata": {
        "id": "Jyae9Sy6Up4n"
      },
      "execution_count": 154,
      "outputs": []
    },
    {
      "cell_type": "markdown",
      "source": [
        "# Pytesseract to extract if tesxt in image"
      ],
      "metadata": {
        "id": "g9IFNriRZbYv"
      }
    },
    {
      "cell_type": "code",
      "source": [
        "# import pytesseract\n",
        "\n",
        "# # Specify the Tesseract executable location\n",
        "# pytesseract.pytesseract.tesseract_cmd = r'/usr/bin/tesseract'\n",
        "\n",
        "# # Extract text\n",
        "# extracted_text = pytesseract.image_to_string(image)\n",
        "# print(\"Extracted Text:\\n\", extracted_text)\n"
      ],
      "metadata": {
        "id": "VlR8aurHXIOx"
      },
      "execution_count": 155,
      "outputs": []
    },
    {
      "cell_type": "code",
      "source": [
        "# extracted_text = pytesseract.image_to_string(image, lang='eng')\n",
        "# extracted_text"
      ],
      "metadata": {
        "id": "Dt5bJTyoXbcp"
      },
      "execution_count": 156,
      "outputs": []
    },
    {
      "cell_type": "markdown",
      "source": [
        "# Pre Trined Model for  Image Description"
      ],
      "metadata": {
        "id": "dfYlEPkeZh7H"
      }
    },
    {
      "cell_type": "code",
      "source": [
        "!pip install transformers"
      ],
      "metadata": {
        "colab": {
          "base_uri": "https://localhost:8080/"
        },
        "id": "KOJDk5SmZ_-8",
        "outputId": "e188ac75-ed2f-4388-99c0-be380bd0c508"
      },
      "execution_count": 157,
      "outputs": [
        {
          "output_type": "stream",
          "name": "stdout",
          "text": [
            "Requirement already satisfied: transformers in /usr/local/lib/python3.10/dist-packages (4.47.1)\n",
            "Requirement already satisfied: filelock in /usr/local/lib/python3.10/dist-packages (from transformers) (3.16.1)\n",
            "Requirement already satisfied: huggingface-hub<1.0,>=0.24.0 in /usr/local/lib/python3.10/dist-packages (from transformers) (0.27.0)\n",
            "Requirement already satisfied: numpy>=1.17 in /usr/local/lib/python3.10/dist-packages (from transformers) (1.26.4)\n",
            "Requirement already satisfied: packaging>=20.0 in /usr/local/lib/python3.10/dist-packages (from transformers) (24.2)\n",
            "Requirement already satisfied: pyyaml>=5.1 in /usr/local/lib/python3.10/dist-packages (from transformers) (6.0.2)\n",
            "Requirement already satisfied: regex!=2019.12.17 in /usr/local/lib/python3.10/dist-packages (from transformers) (2024.11.6)\n",
            "Requirement already satisfied: requests in /usr/local/lib/python3.10/dist-packages (from transformers) (2.32.3)\n",
            "Requirement already satisfied: tokenizers<0.22,>=0.21 in /usr/local/lib/python3.10/dist-packages (from transformers) (0.21.0)\n",
            "Requirement already satisfied: safetensors>=0.4.1 in /usr/local/lib/python3.10/dist-packages (from transformers) (0.4.5)\n",
            "Requirement already satisfied: tqdm>=4.27 in /usr/local/lib/python3.10/dist-packages (from transformers) (4.67.1)\n",
            "Requirement already satisfied: fsspec>=2023.5.0 in /usr/local/lib/python3.10/dist-packages (from huggingface-hub<1.0,>=0.24.0->transformers) (2024.10.0)\n",
            "Requirement already satisfied: typing-extensions>=3.7.4.3 in /usr/local/lib/python3.10/dist-packages (from huggingface-hub<1.0,>=0.24.0->transformers) (4.12.2)\n",
            "Requirement already satisfied: charset-normalizer<4,>=2 in /usr/local/lib/python3.10/dist-packages (from requests->transformers) (3.4.0)\n",
            "Requirement already satisfied: idna<4,>=2.5 in /usr/local/lib/python3.10/dist-packages (from requests->transformers) (3.10)\n",
            "Requirement already satisfied: urllib3<3,>=1.21.1 in /usr/local/lib/python3.10/dist-packages (from requests->transformers) (2.2.3)\n",
            "Requirement already satisfied: certifi>=2017.4.17 in /usr/local/lib/python3.10/dist-packages (from requests->transformers) (2024.12.14)\n"
          ]
        }
      ]
    },
    {
      "cell_type": "code",
      "source": [
        "from google.colab import files\n",
        "from PIL import Image\n",
        "\n",
        "# Upload an image\n",
        "uploaded = files.upload()\n",
        "\n",
        "# Load the uploaded image\n",
        "image_path = list(uploaded.keys())[0]\n",
        "image = Image.open(image_path)\n",
        "image.show()"
      ],
      "metadata": {
        "colab": {
          "base_uri": "https://localhost:8080/",
          "height": 73
        },
        "id": "BGR8gdzHeT9E",
        "outputId": "9b4acb5d-6199-459a-f32a-1f9890fed67d"
      },
      "execution_count": 158,
      "outputs": [
        {
          "output_type": "display_data",
          "data": {
            "text/plain": [
              "<IPython.core.display.HTML object>"
            ],
            "text/html": [
              "\n",
              "     <input type=\"file\" id=\"files-a7931ca1-5fcb-4e9d-bcea-55b8a33e484a\" name=\"files[]\" multiple disabled\n",
              "        style=\"border:none\" />\n",
              "     <output id=\"result-a7931ca1-5fcb-4e9d-bcea-55b8a33e484a\">\n",
              "      Upload widget is only available when the cell has been executed in the\n",
              "      current browser session. Please rerun this cell to enable.\n",
              "      </output>\n",
              "      <script>// Copyright 2017 Google LLC\n",
              "//\n",
              "// Licensed under the Apache License, Version 2.0 (the \"License\");\n",
              "// you may not use this file except in compliance with the License.\n",
              "// You may obtain a copy of the License at\n",
              "//\n",
              "//      http://www.apache.org/licenses/LICENSE-2.0\n",
              "//\n",
              "// Unless required by applicable law or agreed to in writing, software\n",
              "// distributed under the License is distributed on an \"AS IS\" BASIS,\n",
              "// WITHOUT WARRANTIES OR CONDITIONS OF ANY KIND, either express or implied.\n",
              "// See the License for the specific language governing permissions and\n",
              "// limitations under the License.\n",
              "\n",
              "/**\n",
              " * @fileoverview Helpers for google.colab Python module.\n",
              " */\n",
              "(function(scope) {\n",
              "function span(text, styleAttributes = {}) {\n",
              "  const element = document.createElement('span');\n",
              "  element.textContent = text;\n",
              "  for (const key of Object.keys(styleAttributes)) {\n",
              "    element.style[key] = styleAttributes[key];\n",
              "  }\n",
              "  return element;\n",
              "}\n",
              "\n",
              "// Max number of bytes which will be uploaded at a time.\n",
              "const MAX_PAYLOAD_SIZE = 100 * 1024;\n",
              "\n",
              "function _uploadFiles(inputId, outputId) {\n",
              "  const steps = uploadFilesStep(inputId, outputId);\n",
              "  const outputElement = document.getElementById(outputId);\n",
              "  // Cache steps on the outputElement to make it available for the next call\n",
              "  // to uploadFilesContinue from Python.\n",
              "  outputElement.steps = steps;\n",
              "\n",
              "  return _uploadFilesContinue(outputId);\n",
              "}\n",
              "\n",
              "// This is roughly an async generator (not supported in the browser yet),\n",
              "// where there are multiple asynchronous steps and the Python side is going\n",
              "// to poll for completion of each step.\n",
              "// This uses a Promise to block the python side on completion of each step,\n",
              "// then passes the result of the previous step as the input to the next step.\n",
              "function _uploadFilesContinue(outputId) {\n",
              "  const outputElement = document.getElementById(outputId);\n",
              "  const steps = outputElement.steps;\n",
              "\n",
              "  const next = steps.next(outputElement.lastPromiseValue);\n",
              "  return Promise.resolve(next.value.promise).then((value) => {\n",
              "    // Cache the last promise value to make it available to the next\n",
              "    // step of the generator.\n",
              "    outputElement.lastPromiseValue = value;\n",
              "    return next.value.response;\n",
              "  });\n",
              "}\n",
              "\n",
              "/**\n",
              " * Generator function which is called between each async step of the upload\n",
              " * process.\n",
              " * @param {string} inputId Element ID of the input file picker element.\n",
              " * @param {string} outputId Element ID of the output display.\n",
              " * @return {!Iterable<!Object>} Iterable of next steps.\n",
              " */\n",
              "function* uploadFilesStep(inputId, outputId) {\n",
              "  const inputElement = document.getElementById(inputId);\n",
              "  inputElement.disabled = false;\n",
              "\n",
              "  const outputElement = document.getElementById(outputId);\n",
              "  outputElement.innerHTML = '';\n",
              "\n",
              "  const pickedPromise = new Promise((resolve) => {\n",
              "    inputElement.addEventListener('change', (e) => {\n",
              "      resolve(e.target.files);\n",
              "    });\n",
              "  });\n",
              "\n",
              "  const cancel = document.createElement('button');\n",
              "  inputElement.parentElement.appendChild(cancel);\n",
              "  cancel.textContent = 'Cancel upload';\n",
              "  const cancelPromise = new Promise((resolve) => {\n",
              "    cancel.onclick = () => {\n",
              "      resolve(null);\n",
              "    };\n",
              "  });\n",
              "\n",
              "  // Wait for the user to pick the files.\n",
              "  const files = yield {\n",
              "    promise: Promise.race([pickedPromise, cancelPromise]),\n",
              "    response: {\n",
              "      action: 'starting',\n",
              "    }\n",
              "  };\n",
              "\n",
              "  cancel.remove();\n",
              "\n",
              "  // Disable the input element since further picks are not allowed.\n",
              "  inputElement.disabled = true;\n",
              "\n",
              "  if (!files) {\n",
              "    return {\n",
              "      response: {\n",
              "        action: 'complete',\n",
              "      }\n",
              "    };\n",
              "  }\n",
              "\n",
              "  for (const file of files) {\n",
              "    const li = document.createElement('li');\n",
              "    li.append(span(file.name, {fontWeight: 'bold'}));\n",
              "    li.append(span(\n",
              "        `(${file.type || 'n/a'}) - ${file.size} bytes, ` +\n",
              "        `last modified: ${\n",
              "            file.lastModifiedDate ? file.lastModifiedDate.toLocaleDateString() :\n",
              "                                    'n/a'} - `));\n",
              "    const percent = span('0% done');\n",
              "    li.appendChild(percent);\n",
              "\n",
              "    outputElement.appendChild(li);\n",
              "\n",
              "    const fileDataPromise = new Promise((resolve) => {\n",
              "      const reader = new FileReader();\n",
              "      reader.onload = (e) => {\n",
              "        resolve(e.target.result);\n",
              "      };\n",
              "      reader.readAsArrayBuffer(file);\n",
              "    });\n",
              "    // Wait for the data to be ready.\n",
              "    let fileData = yield {\n",
              "      promise: fileDataPromise,\n",
              "      response: {\n",
              "        action: 'continue',\n",
              "      }\n",
              "    };\n",
              "\n",
              "    // Use a chunked sending to avoid message size limits. See b/62115660.\n",
              "    let position = 0;\n",
              "    do {\n",
              "      const length = Math.min(fileData.byteLength - position, MAX_PAYLOAD_SIZE);\n",
              "      const chunk = new Uint8Array(fileData, position, length);\n",
              "      position += length;\n",
              "\n",
              "      const base64 = btoa(String.fromCharCode.apply(null, chunk));\n",
              "      yield {\n",
              "        response: {\n",
              "          action: 'append',\n",
              "          file: file.name,\n",
              "          data: base64,\n",
              "        },\n",
              "      };\n",
              "\n",
              "      let percentDone = fileData.byteLength === 0 ?\n",
              "          100 :\n",
              "          Math.round((position / fileData.byteLength) * 100);\n",
              "      percent.textContent = `${percentDone}% done`;\n",
              "\n",
              "    } while (position < fileData.byteLength);\n",
              "  }\n",
              "\n",
              "  // All done.\n",
              "  yield {\n",
              "    response: {\n",
              "      action: 'complete',\n",
              "    }\n",
              "  };\n",
              "}\n",
              "\n",
              "scope.google = scope.google || {};\n",
              "scope.google.colab = scope.google.colab || {};\n",
              "scope.google.colab._files = {\n",
              "  _uploadFiles,\n",
              "  _uploadFilesContinue,\n",
              "};\n",
              "})(self);\n",
              "</script> "
            ]
          },
          "metadata": {}
        },
        {
          "output_type": "stream",
          "name": "stdout",
          "text": [
            "Saving self driving car.jpg to self driving car (2).jpg\n"
          ]
        }
      ]
    },
    {
      "cell_type": "code",
      "source": [
        "\n",
        "from transformers import BlipProcessor, BlipForConditionalGeneration\n",
        "\n",
        "# Load a pre-trained image captioning model\n",
        "processor = BlipProcessor.from_pretrained(\"Salesforce/blip-image-captioning-base\")\n",
        "model = BlipForConditionalGeneration.from_pretrained(\"Salesforce/blip-image-captioning-base\")\n",
        "\n",
        "# Generate caption\n",
        "from PIL import Image\n",
        "image = Image.open(image_path).convert(\"RGB\")\n",
        "inputs = processor(images=image, return_tensors=\"pt\")\n",
        "output = model.generate(**inputs)\n",
        "caption = processor.decode(output[0], skip_special_tokens=True)\n",
        "print(\"Generated Caption:\", caption)\n"
      ],
      "metadata": {
        "colab": {
          "base_uri": "https://localhost:8080/"
        },
        "id": "jJl3TwVLZ-rs",
        "outputId": "73758dd2-011c-4152-9488-e730c4e39d76"
      },
      "execution_count": 159,
      "outputs": [
        {
          "output_type": "stream",
          "name": "stdout",
          "text": [
            "Generated Caption: google cars are seen in this file photo\n"
          ]
        }
      ]
    },
    {
      "cell_type": "code",
      "source": [
        "# Generated caption\n",
        "generated_caption = caption"
      ],
      "metadata": {
        "id": "LA1Y4MQua383"
      },
      "execution_count": 160,
      "outputs": []
    },
    {
      "cell_type": "code",
      "source": [
        "# Example of real data\n",
        "real_data = pd.DataFrame({\n",
        "    'skills_required': ['Python, Data Analysis'],\n",
        "    'difficulty_level': ['Intermediate'],\n",
        "    'category': ['Data Science'],\n",
        "    'keywords': ''\n",
        "})\n",
        "\n",
        "# Append the caption to the keywords column\n",
        "real_data['keywords'] = real_data['keywords'] + \", \" + generated_caption\n",
        "\n",
        "\n",
        "real_data"
      ],
      "metadata": {
        "colab": {
          "base_uri": "https://localhost:8080/",
          "height": 89
        },
        "id": "GwrQjh9ha8gP",
        "outputId": "7a66db3b-cf2d-4a68-b2b3-c27300ca1e01"
      },
      "execution_count": 161,
      "outputs": [
        {
          "output_type": "execute_result",
          "data": {
            "text/plain": [
              "         skills_required difficulty_level      category  \\\n",
              "0  Python, Data Analysis     Intermediate  Data Science   \n",
              "\n",
              "                                    keywords  \n",
              "0  , google cars are seen in this file photo  "
            ],
            "text/html": [
              "\n",
              "  <div id=\"df-ed9bd93a-6af5-4c7b-bd49-b53cda7b231d\" class=\"colab-df-container\">\n",
              "    <div>\n",
              "<style scoped>\n",
              "    .dataframe tbody tr th:only-of-type {\n",
              "        vertical-align: middle;\n",
              "    }\n",
              "\n",
              "    .dataframe tbody tr th {\n",
              "        vertical-align: top;\n",
              "    }\n",
              "\n",
              "    .dataframe thead th {\n",
              "        text-align: right;\n",
              "    }\n",
              "</style>\n",
              "<table border=\"1\" class=\"dataframe\">\n",
              "  <thead>\n",
              "    <tr style=\"text-align: right;\">\n",
              "      <th></th>\n",
              "      <th>skills_required</th>\n",
              "      <th>difficulty_level</th>\n",
              "      <th>category</th>\n",
              "      <th>keywords</th>\n",
              "    </tr>\n",
              "  </thead>\n",
              "  <tbody>\n",
              "    <tr>\n",
              "      <th>0</th>\n",
              "      <td>Python, Data Analysis</td>\n",
              "      <td>Intermediate</td>\n",
              "      <td>Data Science</td>\n",
              "      <td>, google cars are seen in this file photo</td>\n",
              "    </tr>\n",
              "  </tbody>\n",
              "</table>\n",
              "</div>\n",
              "    <div class=\"colab-df-buttons\">\n",
              "\n",
              "  <div class=\"colab-df-container\">\n",
              "    <button class=\"colab-df-convert\" onclick=\"convertToInteractive('df-ed9bd93a-6af5-4c7b-bd49-b53cda7b231d')\"\n",
              "            title=\"Convert this dataframe to an interactive table.\"\n",
              "            style=\"display:none;\">\n",
              "\n",
              "  <svg xmlns=\"http://www.w3.org/2000/svg\" height=\"24px\" viewBox=\"0 -960 960 960\">\n",
              "    <path d=\"M120-120v-720h720v720H120Zm60-500h600v-160H180v160Zm220 220h160v-160H400v160Zm0 220h160v-160H400v160ZM180-400h160v-160H180v160Zm440 0h160v-160H620v160ZM180-180h160v-160H180v160Zm440 0h160v-160H620v160Z\"/>\n",
              "  </svg>\n",
              "    </button>\n",
              "\n",
              "  <style>\n",
              "    .colab-df-container {\n",
              "      display:flex;\n",
              "      gap: 12px;\n",
              "    }\n",
              "\n",
              "    .colab-df-convert {\n",
              "      background-color: #E8F0FE;\n",
              "      border: none;\n",
              "      border-radius: 50%;\n",
              "      cursor: pointer;\n",
              "      display: none;\n",
              "      fill: #1967D2;\n",
              "      height: 32px;\n",
              "      padding: 0 0 0 0;\n",
              "      width: 32px;\n",
              "    }\n",
              "\n",
              "    .colab-df-convert:hover {\n",
              "      background-color: #E2EBFA;\n",
              "      box-shadow: 0px 1px 2px rgba(60, 64, 67, 0.3), 0px 1px 3px 1px rgba(60, 64, 67, 0.15);\n",
              "      fill: #174EA6;\n",
              "    }\n",
              "\n",
              "    .colab-df-buttons div {\n",
              "      margin-bottom: 4px;\n",
              "    }\n",
              "\n",
              "    [theme=dark] .colab-df-convert {\n",
              "      background-color: #3B4455;\n",
              "      fill: #D2E3FC;\n",
              "    }\n",
              "\n",
              "    [theme=dark] .colab-df-convert:hover {\n",
              "      background-color: #434B5C;\n",
              "      box-shadow: 0px 1px 3px 1px rgba(0, 0, 0, 0.15);\n",
              "      filter: drop-shadow(0px 1px 2px rgba(0, 0, 0, 0.3));\n",
              "      fill: #FFFFFF;\n",
              "    }\n",
              "  </style>\n",
              "\n",
              "    <script>\n",
              "      const buttonEl =\n",
              "        document.querySelector('#df-ed9bd93a-6af5-4c7b-bd49-b53cda7b231d button.colab-df-convert');\n",
              "      buttonEl.style.display =\n",
              "        google.colab.kernel.accessAllowed ? 'block' : 'none';\n",
              "\n",
              "      async function convertToInteractive(key) {\n",
              "        const element = document.querySelector('#df-ed9bd93a-6af5-4c7b-bd49-b53cda7b231d');\n",
              "        const dataTable =\n",
              "          await google.colab.kernel.invokeFunction('convertToInteractive',\n",
              "                                                    [key], {});\n",
              "        if (!dataTable) return;\n",
              "\n",
              "        const docLinkHtml = 'Like what you see? Visit the ' +\n",
              "          '<a target=\"_blank\" href=https://colab.research.google.com/notebooks/data_table.ipynb>data table notebook</a>'\n",
              "          + ' to learn more about interactive tables.';\n",
              "        element.innerHTML = '';\n",
              "        dataTable['output_type'] = 'display_data';\n",
              "        await google.colab.output.renderOutput(dataTable, element);\n",
              "        const docLink = document.createElement('div');\n",
              "        docLink.innerHTML = docLinkHtml;\n",
              "        element.appendChild(docLink);\n",
              "      }\n",
              "    </script>\n",
              "  </div>\n",
              "\n",
              "\n",
              "  <div id=\"id_b5bb562e-3bca-435d-99f9-2948e254405f\">\n",
              "    <style>\n",
              "      .colab-df-generate {\n",
              "        background-color: #E8F0FE;\n",
              "        border: none;\n",
              "        border-radius: 50%;\n",
              "        cursor: pointer;\n",
              "        display: none;\n",
              "        fill: #1967D2;\n",
              "        height: 32px;\n",
              "        padding: 0 0 0 0;\n",
              "        width: 32px;\n",
              "      }\n",
              "\n",
              "      .colab-df-generate:hover {\n",
              "        background-color: #E2EBFA;\n",
              "        box-shadow: 0px 1px 2px rgba(60, 64, 67, 0.3), 0px 1px 3px 1px rgba(60, 64, 67, 0.15);\n",
              "        fill: #174EA6;\n",
              "      }\n",
              "\n",
              "      [theme=dark] .colab-df-generate {\n",
              "        background-color: #3B4455;\n",
              "        fill: #D2E3FC;\n",
              "      }\n",
              "\n",
              "      [theme=dark] .colab-df-generate:hover {\n",
              "        background-color: #434B5C;\n",
              "        box-shadow: 0px 1px 3px 1px rgba(0, 0, 0, 0.15);\n",
              "        filter: drop-shadow(0px 1px 2px rgba(0, 0, 0, 0.3));\n",
              "        fill: #FFFFFF;\n",
              "      }\n",
              "    </style>\n",
              "    <button class=\"colab-df-generate\" onclick=\"generateWithVariable('real_data')\"\n",
              "            title=\"Generate code using this dataframe.\"\n",
              "            style=\"display:none;\">\n",
              "\n",
              "  <svg xmlns=\"http://www.w3.org/2000/svg\" height=\"24px\"viewBox=\"0 0 24 24\"\n",
              "       width=\"24px\">\n",
              "    <path d=\"M7,19H8.4L18.45,9,17,7.55,7,17.6ZM5,21V16.75L18.45,3.32a2,2,0,0,1,2.83,0l1.4,1.43a1.91,1.91,0,0,1,.58,1.4,1.91,1.91,0,0,1-.58,1.4L9.25,21ZM18.45,9,17,7.55Zm-12,3A5.31,5.31,0,0,0,4.9,8.1,5.31,5.31,0,0,0,1,6.5,5.31,5.31,0,0,0,4.9,4.9,5.31,5.31,0,0,0,6.5,1,5.31,5.31,0,0,0,8.1,4.9,5.31,5.31,0,0,0,12,6.5,5.46,5.46,0,0,0,6.5,12Z\"/>\n",
              "  </svg>\n",
              "    </button>\n",
              "    <script>\n",
              "      (() => {\n",
              "      const buttonEl =\n",
              "        document.querySelector('#id_b5bb562e-3bca-435d-99f9-2948e254405f button.colab-df-generate');\n",
              "      buttonEl.style.display =\n",
              "        google.colab.kernel.accessAllowed ? 'block' : 'none';\n",
              "\n",
              "      buttonEl.onclick = () => {\n",
              "        google.colab.notebook.generateWithVariable('real_data');\n",
              "      }\n",
              "      })();\n",
              "    </script>\n",
              "  </div>\n",
              "\n",
              "    </div>\n",
              "  </div>\n"
            ],
            "application/vnd.google.colaboratory.intrinsic+json": {
              "type": "dataframe",
              "variable_name": "real_data",
              "summary": "{\n  \"name\": \"real_data\",\n  \"rows\": 1,\n  \"fields\": [\n    {\n      \"column\": \"skills_required\",\n      \"properties\": {\n        \"dtype\": \"string\",\n        \"num_unique_values\": 1,\n        \"samples\": [\n          \"Python, Data Analysis\"\n        ],\n        \"semantic_type\": \"\",\n        \"description\": \"\"\n      }\n    },\n    {\n      \"column\": \"difficulty_level\",\n      \"properties\": {\n        \"dtype\": \"string\",\n        \"num_unique_values\": 1,\n        \"samples\": [\n          \"Intermediate\"\n        ],\n        \"semantic_type\": \"\",\n        \"description\": \"\"\n      }\n    },\n    {\n      \"column\": \"category\",\n      \"properties\": {\n        \"dtype\": \"string\",\n        \"num_unique_values\": 1,\n        \"samples\": [\n          \"Data Science\"\n        ],\n        \"semantic_type\": \"\",\n        \"description\": \"\"\n      }\n    },\n    {\n      \"column\": \"keywords\",\n      \"properties\": {\n        \"dtype\": \"string\",\n        \"num_unique_values\": 1,\n        \"samples\": [\n          \", google cars are seen in this file photo\"\n        ],\n        \"semantic_type\": \"\",\n        \"description\": \"\"\n      }\n    }\n  ]\n}"
            }
          },
          "metadata": {},
          "execution_count": 161
        }
      ]
    },
    {
      "cell_type": "code",
      "source": [
        "import nltk\n",
        "\n",
        "# Force redownload of punkt and stopwords\n",
        "nltk.download('punkt', force=True)\n",
        "nltk.download('stopwords', force=True)\n"
      ],
      "metadata": {
        "colab": {
          "base_uri": "https://localhost:8080/"
        },
        "id": "rzVo26qjcMJc",
        "outputId": "493a29d8-5392-4261-eb3d-70a3fb7eb116"
      },
      "execution_count": 162,
      "outputs": [
        {
          "output_type": "stream",
          "name": "stderr",
          "text": [
            "[nltk_data] Downloading package punkt to /root/nltk_data...\n",
            "[nltk_data]   Unzipping tokenizers/punkt.zip.\n",
            "[nltk_data] Downloading package stopwords to /root/nltk_data...\n",
            "[nltk_data]   Unzipping corpora/stopwords.zip.\n"
          ]
        },
        {
          "output_type": "execute_result",
          "data": {
            "text/plain": [
              "True"
            ]
          },
          "metadata": {},
          "execution_count": 162
        }
      ]
    },
    {
      "cell_type": "code",
      "source": [
        "import nltk\n",
        "print(nltk.data.path)\n"
      ],
      "metadata": {
        "colab": {
          "base_uri": "https://localhost:8080/"
        },
        "id": "-_IOY2RucMzs",
        "outputId": "6b7ba84d-fc65-42b0-e652-7ed8326d1fe1"
      },
      "execution_count": 163,
      "outputs": [
        {
          "output_type": "stream",
          "name": "stdout",
          "text": [
            "['/root/nltk_data', '/usr/nltk_data', '/usr/share/nltk_data', '/usr/lib/nltk_data', '/usr/share/nltk_data', '/usr/local/share/nltk_data', '/usr/lib/nltk_data', '/usr/local/lib/nltk_data']\n"
          ]
        }
      ]
    },
    {
      "cell_type": "code",
      "source": [
        "import pandas as pd\n",
        "import re\n",
        "\n",
        "# Example of real data\n",
        "real_data = pd.DataFrame({\n",
        "    'skills_required': ['Computer Vision, Self Driving Car'],\n",
        "    'difficulty_level': ['Intermediate'],\n",
        "    'category': ['Self Driving Cars'],\n",
        "})\n",
        "\n",
        "# Combine 'category' and 'skills_required' into 'keywords'\n",
        "real_data['keywords'] = real_data.apply(lambda row: [row['category']] + row['skills_required'].split(', '), axis=1)\n",
        "\n",
        "# Dynamic input (generated caption or text)\n",
        "dynamic_text = caption\n",
        "\n",
        "# Function to clean and tokenize text\n",
        "def preprocess_text(text):\n",
        "    # Tokenize using regex\n",
        "    words = re.findall(r'\\b\\w+\\b', text.lower())\n",
        "    # Define common stopwords\n",
        "    stop_words = {'are', 'seen', 'in', 'this', 'file', 'photo'}\n",
        "    cleaned_words = [word for word in words if word not in stop_words]\n",
        "    return cleaned_words\n",
        "\n",
        "# Process the dynamic input\n",
        "processed_words = preprocess_text(dynamic_text)\n",
        "\n",
        "# Add the processed words to the keywords column\n",
        "real_data['keywords'] = real_data['keywords'].apply(lambda x: x + processed_words)\n",
        "\n",
        "# Display the updated DataFrame\n",
        "print(real_data)\n"
      ],
      "metadata": {
        "colab": {
          "base_uri": "https://localhost:8080/"
        },
        "id": "Cvz7EsQfbsa9",
        "outputId": "a69aa11a-42fb-40c1-e664-6402af009575"
      },
      "execution_count": 164,
      "outputs": [
        {
          "output_type": "stream",
          "name": "stdout",
          "text": [
            "                     skills_required difficulty_level           category  \\\n",
            "0  Computer Vision, Self Driving Car     Intermediate  Self Driving Cars   \n",
            "\n",
            "                                            keywords  \n",
            "0  [Self Driving Cars, Computer Vision, Self Driv...  \n"
          ]
        }
      ]
    },
    {
      "cell_type": "code",
      "source": [
        "# Combine columns into a single string\n",
        "real_data_combined = real_data.astype(str).agg(' '.join, axis=1)\n",
        "\n",
        "# Display the updated DataFrame\n",
        "print(real_data)"
      ],
      "metadata": {
        "colab": {
          "base_uri": "https://localhost:8080/"
        },
        "id": "OIyIM7EJa_3P",
        "outputId": "c41309c5-8702-4523-b8ea-f5e4b8992803"
      },
      "execution_count": 165,
      "outputs": [
        {
          "output_type": "stream",
          "name": "stdout",
          "text": [
            "                     skills_required difficulty_level           category  \\\n",
            "0  Computer Vision, Self Driving Car     Intermediate  Self Driving Cars   \n",
            "\n",
            "                                            keywords  \n",
            "0  [Self Driving Cars, Computer Vision, Self Driv...  \n"
          ]
        }
      ]
    },
    {
      "cell_type": "code",
      "source": [
        "# Predict using the real data\n",
        "predictions = pipeline.predict(real_data_combined)\n",
        "\n",
        "# Print the predictions\n",
        "print(\"Predicted Titles:\", predictions)"
      ],
      "metadata": {
        "colab": {
          "base_uri": "https://localhost:8080/"
        },
        "id": "AIKQsWNKbTDO",
        "outputId": "0d4b4294-cff8-4225-8e92-eb9b99ea34b7"
      },
      "execution_count": 166,
      "outputs": [
        {
          "output_type": "stream",
          "name": "stdout",
          "text": [
            "Predicted Titles: ['Car Maintenance Tracker']\n"
          ]
        }
      ]
    }
  ]
}